{
 "cells": [
  {
   "cell_type": "code",
   "execution_count": 28,
   "metadata": {},
   "outputs": [],
   "source": [
    "import pandas as pd\n",
    "from pathlib import Path\n",
    "import os"
   ]
  },
  {
   "cell_type": "code",
   "execution_count": 29,
   "metadata": {},
   "outputs": [],
   "source": [
    "from pathlib import Path\n",
    "import os\n",
    "p = Path(os.getcwd()).parents[2] #donne path vers fichier contenant data ( 3 level up d ici)\n",
    "df=pd.read_csv(str(p)+\"\\\\data\\\\ETHUSD_1.csv\")"
   ]
  },
  {
   "cell_type": "code",
   "execution_count": 30,
   "metadata": {},
   "outputs": [],
   "source": [
    "df.loc[-1]=df.columns\n",
    "df.index=df.index+1\n",
    "df=df.sort_index()\n",
    "#ajoute les noms des colonnes comme la premiere ligne du dataframe"
   ]
  },
  {
   "cell_type": "code",
   "execution_count": 31,
   "metadata": {},
   "outputs": [],
   "source": [
    "df.rename(columns={\"1438956180\":\"Time\",\"3.0\":\"Open\",\"3.0.1\":\"High\",\"3.0.2\":\"Low\",\"3.0.3\":\"Close\",\"81.85727776\":\"Volume\",\"2\":\"Trades\"},inplace=True)\n",
    "#renome les colonnes vers ce qu'elles représentent"
   ]
  },
  {
   "cell_type": "code",
   "execution_count": 32,
   "metadata": {},
   "outputs": [],
   "source": [
    "df.loc[0,\"Time\"]=int(df.loc[0,\"Time\"])\n",
    "for col in df.columns[1:5]:\n",
    "    df.loc[0,col]=float(3.0)\n",
    "df.loc[0,\"Volume\"]=float(df.loc[0,\"Volume\"])\n",
    "df.loc[0,\"Trades\"]=int(df.loc[0,\"Trades\"])\n",
    "#donne les bons types aux elements de la ligne ajoutee et remplace certaines valeurs douteuses comme 3.0.3 pour 3.0"
   ]
  },
  {
   "cell_type": "code",
   "execution_count": 33,
   "metadata": {},
   "outputs": [
    {
     "data": {
      "text/plain": [
       "0"
      ]
     },
     "execution_count": 33,
     "metadata": {},
     "output_type": "execute_result"
    }
   ],
   "source": [
    "df.isnull().sum().sum()\n",
    "#verifie quil ny a pas de NaN"
   ]
  },
  {
   "cell_type": "code",
   "execution_count": 36,
   "metadata": {},
   "outputs": [],
   "source": [
    "df.to_csv(str(p)+\"\\\\data\\\\f_ETHUSD_1.csv\",index=False)\n",
    "#save le fichier formatte"
   ]
  },
  {
   "cell_type": "code",
   "execution_count": null,
   "metadata": {},
   "outputs": [],
   "source": []
  }
 ],
 "metadata": {
  "kernelspec": {
   "display_name": "py3.11",
   "language": "python",
   "name": "python3"
  },
  "language_info": {
   "codemirror_mode": {
    "name": "ipython",
    "version": 3
   },
   "file_extension": ".py",
   "mimetype": "text/x-python",
   "name": "python",
   "nbconvert_exporter": "python",
   "pygments_lexer": "ipython3",
   "version": "3.11.4"
  }
 },
 "nbformat": 4,
 "nbformat_minor": 2
}
